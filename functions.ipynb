{
 "cells": [
  {
   "cell_type": "code",
   "execution_count": 1,
   "metadata": {},
   "outputs": [
    {
     "name": "stdout",
     "output_type": "stream",
     "text": [
      "welcome\n",
      "thanks\n",
      "this is function\n"
     ]
    }
   ],
   "source": [
    "print(\"welcome\")                  #function def fucntion will only be executed by calling it --it will execute the statements inside\n",
    "def add():                      # the block\n",
    "    print(\"this is function\")\n",
    "print(\"thanks\")\n",
    "add()"
   ]
  },
  {
   "cell_type": "code",
   "execution_count": 2,
   "metadata": {},
   "outputs": [
    {
     "name": "stdout",
     "output_type": "stream",
     "text": [
      "welcome\n",
      "this is a fruit\n",
      "end\n"
     ]
    }
   ],
   "source": [
    "print (\"welcome\")\n",
    "def fruit():\n",
    "    print(\"this is a fruit\")\n",
    "fruit()\n",
    "print(\"end\")"
   ]
  },
  {
   "cell_type": "code",
   "execution_count": 3,
   "metadata": {},
   "outputs": [
    {
     "name": "stdout",
     "output_type": "stream",
     "text": [
      "welcome\n"
     ]
    },
    {
     "ename": "NameError",
     "evalue": "name 'banan' is not defined",
     "output_type": "error",
     "traceback": [
      "\u001b[1;31m---------------------------------------------------------------------------\u001b[0m",
      "\u001b[1;31mNameError\u001b[0m                                 Traceback (most recent call last)",
      "\u001b[1;32m<ipython-input-3-b7ec7fbe4007>\u001b[0m in \u001b[0;36m<module>\u001b[1;34m\u001b[0m\n\u001b[0;32m      2\u001b[0m \u001b[1;32mdef\u001b[0m \u001b[0mfruit\u001b[0m\u001b[1;33m(\u001b[0m\u001b[0mname\u001b[0m\u001b[1;33m)\u001b[0m\u001b[1;33m:\u001b[0m\u001b[1;33m\u001b[0m\u001b[1;33m\u001b[0m\u001b[0m\n\u001b[0;32m      3\u001b[0m     \u001b[0mprint\u001b[0m\u001b[1;33m(\u001b[0m\u001b[1;34m\"this is a fruit\"\u001b[0m\u001b[1;33m)\u001b[0m\u001b[1;33m\u001b[0m\u001b[1;33m\u001b[0m\u001b[0m\n\u001b[1;32m----> 4\u001b[1;33m \u001b[0mfruit\u001b[0m\u001b[1;33m(\u001b[0m\u001b[0mbanan\u001b[0m\u001b[1;33m)\u001b[0m\u001b[1;33m\u001b[0m\u001b[1;33m\u001b[0m\u001b[0m\n\u001b[0m\u001b[0;32m      5\u001b[0m \u001b[0mprint\u001b[0m\u001b[1;33m(\u001b[0m\u001b[1;34m\"end\"\u001b[0m\u001b[1;33m)\u001b[0m\u001b[1;33m\u001b[0m\u001b[1;33m\u001b[0m\u001b[0m\n",
      "\u001b[1;31mNameError\u001b[0m: name 'banan' is not defined"
     ]
    }
   ],
   "source": [
    "print (\"welcome\")\n",
    "def fruit(name):\n",
    "    print(\"this is a fruit\")\n",
    "fruit(banan)\n",
    "print(\"end\")"
   ]
  },
  {
   "cell_type": "code",
   "execution_count": 5,
   "metadata": {},
   "outputs": [
    {
     "name": "stdout",
     "output_type": "stream",
     "text": [
      "welcome\n",
      "30 -10 200 0.5\n",
      "end\n"
     ]
    }
   ],
   "source": [
    "print (\"welcome\")\n",
    "def fruit(x,y):\n",
    "    a=x+y\n",
    "    b=x-y\n",
    "    c=x*y\n",
    "    d=x/y\n",
    "    print(a,b,c,d)\n",
    "fruit(10,20)\n",
    "print(\"end\")"
   ]
  },
  {
   "cell_type": "code",
   "execution_count": 6,
   "metadata": {},
   "outputs": [
    {
     "name": "stdout",
     "output_type": "stream",
     "text": [
      "welcome\n",
      "190\n"
     ]
    }
   ],
   "source": [
    "print (\"welcome\")         #sales price calculation\n",
    "def sale_price(cp,dis):\n",
    "    a=cp-dis\n",
    "    print(a)\n",
    "sale_price(200,10)    \n",
    "\n",
    "    \n",
    "    \n",
    " "
   ]
  },
  {
   "cell_type": "code",
   "execution_count": 7,
   "metadata": {},
   "outputs": [
    {
     "name": "stdout",
     "output_type": "stream",
     "text": [
      "welcome\n",
      "540\n"
     ]
    }
   ],
   "source": [
    "print(\"welcome\")\n",
    "def cost_price(pc,dc):\n",
    "    a=pc+dc\n",
    "    print(a)\n",
    "cost_price(500,40)    "
   ]
  },
  {
   "cell_type": "code",
   "execution_count": 8,
   "metadata": {},
   "outputs": [
    {
     "name": "stdout",
     "output_type": "stream",
     "text": [
      "hello\n",
      "5\n"
     ]
    }
   ],
   "source": [
    "print(\"hello\")\n",
    "def profit_cost(s,cp):\n",
    "    print(s-cp)\n",
    "profit_cost(10,5)    "
   ]
  },
  {
   "cell_type": "code",
   "execution_count": 15,
   "metadata": {},
   "outputs": [
    {
     "name": "stdout",
     "output_type": "stream",
     "text": [
      "name:nab,id:203,age:0,gender:0\n"
     ]
    }
   ],
   "source": [
    "def person_1(name,id,age=0,gender=0):\n",
    "    print(f\"name:{name},id:{id},age:{age},gender:{gender}\")\n",
    "person_1(\"nab\",203)"
   ]
  },
  {
   "cell_type": "code",
   "execution_count": 17,
   "metadata": {},
   "outputs": [],
   "source": [
    "person_1? #to know the signature"
   ]
  },
  {
   "cell_type": "code",
   "execution_count": 18,
   "metadata": {},
   "outputs": [
    {
     "ename": "AttributeError",
     "evalue": "'function' object has no attribute '_doc_'",
     "output_type": "error",
     "traceback": [
      "\u001b[1;31m---------------------------------------------------------------------------\u001b[0m",
      "\u001b[1;31mAttributeError\u001b[0m                            Traceback (most recent call last)",
      "\u001b[1;32m<ipython-input-18-c2a8cf50dcaa>\u001b[0m in \u001b[0;36m<module>\u001b[1;34m\u001b[0m\n\u001b[1;32m----> 1\u001b[1;33m \u001b[0mperson_1\u001b[0m\u001b[1;33m.\u001b[0m\u001b[0m_doc_\u001b[0m\u001b[1;33m\u001b[0m\u001b[1;33m\u001b[0m\u001b[0m\n\u001b[0m",
      "\u001b[1;31mAttributeError\u001b[0m: 'function' object has no attribute '_doc_'"
     ]
    }
   ],
   "source": [
    "person_1._doc_ # to know the docstring "
   ]
  },
  {
   "cell_type": "code",
   "execution_count": 19,
   "metadata": {},
   "outputs": [],
   "source": [
    "\n",
    "def fun(*k):  \n",
    "     print(k)              #star is used to work with keyword arguments with mandatory parametes "
   ]
  },
  {
   "cell_type": "code",
   "execution_count": 1,
   "metadata": {},
   "outputs": [
    {
     "ename": "SyntaxError",
     "evalue": "invalid syntax (<ipython-input-1-f14de992c308>, line 1)",
     "output_type": "error",
     "traceback": [
      "\u001b[1;36m  File \u001b[1;32m\"<ipython-input-1-f14de992c308>\"\u001b[1;36m, line \u001b[1;32m1\u001b[0m\n\u001b[1;33m    def fun(**k) # used to work with keyword arguments with all kinds of parameters\u001b[0m\n\u001b[1;37m                                                                                   ^\u001b[0m\n\u001b[1;31mSyntaxError\u001b[0m\u001b[1;31m:\u001b[0m invalid syntax\n"
     ]
    }
   ],
   "source": [
    "def fun(**k) # used to work with keyword arguments with all kinds of parameters"
   ]
  },
  {
   "cell_type": "code",
   "execution_count": 4,
   "metadata": {},
   "outputs": [
    {
     "ename": "SyntaxError",
     "evalue": "positional argument follows keyword argument (<ipython-input-4-e3190c422c89>, line 4)",
     "output_type": "error",
     "traceback": [
      "\u001b[1;36m  File \u001b[1;32m\"<ipython-input-4-e3190c422c89>\"\u001b[1;36m, line \u001b[1;32m4\u001b[0m\n\u001b[1;33m    fun(a=\"name\",10,20,)\u001b[0m\n\u001b[1;37m                ^\u001b[0m\n\u001b[1;31mSyntaxError\u001b[0m\u001b[1;31m:\u001b[0m positional argument follows keyword argument\n"
     ]
    }
   ],
   "source": [
    "# call this function with different arguments make some notes.\n",
    "def fun(a,b=10,c=20,*k,**m):\n",
    "    print(f\"a={a},b={b},c={c},k={k},m={m}\")\n",
    "fun(a=\"name\",10,20,)"
   ]
  },
  {
   "cell_type": "code",
   "execution_count": 1,
   "metadata": {},
   "outputs": [
    {
     "name": "stdout",
     "output_type": "stream",
     "text": [
      "main block\n",
      "this is a function\n"
     ]
    }
   ],
   "source": [
    "#function assignments \n",
    "def fun():\n",
    "    print(\"this is a function\")\n",
    "print(\"main block\")\n",
    "fun()"
   ]
  },
  {
   "cell_type": "code",
   "execution_count": 10,
   "metadata": {},
   "outputs": [
    {
     "name": "stdout",
     "output_type": "stream",
     "text": [
      "hellonabiha you are25\n",
      "thanks\n"
     ]
    }
   ],
   "source": [
    "def fun(name,age):\n",
    "    print(\"hello\" + name , \"you are\"  +  age)\n",
    "fun(\"nabiha\", \"25\")\n",
    "print(\"thanks\")"
   ]
  },
  {
   "cell_type": "code",
   "execution_count": 14,
   "metadata": {},
   "outputs": [
    {
     "name": "stdout",
     "output_type": "stream",
     "text": [
      "hello nabiha  you are 25 \n",
      "thanks\n"
     ]
    }
   ],
   "source": [
    "def fun(name,age):\n",
    "    print(\"hello\" + name , \"you are\"  +  str(age))\n",
    "fun(\" nabiha \", \" 25 \")\n",
    "print(\"thanks\")"
   ]
  },
  {
   "cell_type": "code",
   "execution_count": 16,
   "metadata": {},
   "outputs": [
    {
     "name": "stdout",
     "output_type": "stream",
     "text": [
      "30 -10 200 0.5\n"
     ]
    }
   ],
   "source": [
    "def cal(x,y):\n",
    "    a=x+y\n",
    "    b=x-y\n",
    "    c=x*y\n",
    "    d=x/y\n",
    "    print(a,b,c,d)\n",
    "cal(10,20)"
   ]
  },
  {
   "cell_type": "code",
   "execution_count": 17,
   "metadata": {},
   "outputs": [
    {
     "name": "stdout",
     "output_type": "stream",
     "text": [
      "30 -10 200 0.5\n",
      "102 98 200 50.0\n"
     ]
    }
   ],
   "source": [
    "def cal(x,y):\n",
    "    a=x+y\n",
    "    b=x-y\n",
    "    c=x*y\n",
    "    d=x/y\n",
    "    print(a,b,c,d)\n",
    "cal(10,20)\n",
    "cal(100,2)"
   ]
  },
  {
   "cell_type": "code",
   "execution_count": 18,
   "metadata": {},
   "outputs": [
    {
     "name": "stdout",
     "output_type": "stream",
     "text": [
      "sale price of the product : 475\n"
     ]
    }
   ],
   "source": [
    "def sale_price(cp,dp):\n",
    "    print(\"sale price of the product :\",cp-dp)\n",
    "sale_price(500,25)"
   ]
  },
  {
   "cell_type": "code",
   "execution_count": 24,
   "metadata": {},
   "outputs": [
    {
     "name": "stdout",
     "output_type": "stream",
     "text": [
      "please select a below mentioned option to know the cost of the product\n",
      "\t1.Sale price\n",
      "\t2.Cost price\n",
      "\t3.Profit\n"
     ]
    }
   ],
   "source": [
    "def sale_price(cp,dp):\n",
    "    print(\"sale price of the product :\",  cp-dp)\n",
    "def cost_price(pc,dc):\n",
    "    print(\"cost price of the product : \",pc+dc)\n",
    "def profit(sp,cp):\n",
    "    print(\"total profit on product : \",cp-sp )\n",
    "print(\"please select a below mentioned option to know the cost of the product\\n\\t1.Sale price\\n\\t2.Cost price\\n\\t3.Profit\")"
   ]
  },
  {
   "cell_type": "code",
   "execution_count": 25,
   "metadata": {},
   "outputs": [
    {
     "name": "stdout",
     "output_type": "stream",
     "text": [
      "please select a below mentioned option to know the cost of the product\n",
      "\t1.Sale price\n",
      "\t2.Cost price\n",
      "\t3.Profit\n",
      "please enter an option : 1\n",
      "enter the cost price: 500\n",
      "enter the discount :20\n",
      "sale price of the product : 480.0\n",
      "invald entry!\n"
     ]
    }
   ],
   "source": [
    "def sale_price(cp,dp):\n",
    "    print(\"sale price of the product :\",  cp-dp)\n",
    "def cost_price(pc,dc):\n",
    "    print(\"cost price of the product : \",pc+dc)\n",
    "def profit(sp,cp):\n",
    "    print(\"total profit on product : \",cp-sp )\n",
    "print(\"please select a below mentioned option to know the cost of the product\\n\\t1.Sale price\\n\\t2.Cost price\\n\\t3.Profit\")\n",
    "opt_1=input(\"please enter an option : \")\n",
    "if opt_1==\"1\":\n",
    "    cp=float(input(\"enter the cost price: \"))\n",
    "    dp=float(input(\"enter the discount :\"))\n",
    "    sale_price(cp,dp)\n",
    "if opt_1==\"2\":\n",
    "    pc=float(input(\"enter the purchase cost : \"))\n",
    "    dc=float(input(\"enter the delivery charge: \"))           #see here the else option is running any ways its becoz we dint use\n",
    "    cost_price(pc,dc)                                        #elif block and use if .\n",
    "if opt_1==\"3\":\n",
    "    cp=float(input(\"enter the cost price : \"))\n",
    "    sp=float(input(\"enter the sale price : \"))\n",
    "else:\n",
    "    print(\"invald entry!\")\n",
    "    "
   ]
  },
  {
   "cell_type": "code",
   "execution_count": 27,
   "metadata": {},
   "outputs": [
    {
     "name": "stdout",
     "output_type": "stream",
     "text": [
      "please select a below mentioned option to know the cost of the product\n",
      "\t1.Sale price\n",
      "\t2.Cost price\n",
      "\t3.Profit\n",
      "please enter an option : 1\n",
      "enter the cost price: 500\n",
      "enter the discount :50\n",
      "sale price of the product : 450.0\n"
     ]
    }
   ],
   "source": [
    "def sale_price(cp,dp):\n",
    "    print(\"sale price of the product :\",  cp-dp)\n",
    "def cost_price(pc,dc):\n",
    "    print(\"cost price of the product : \",pc+dc)\n",
    "def profit(sp,cp):\n",
    "    print(\"total profit on product : \",cp-sp )\n",
    "print(\"please select a below mentioned option to know the cost of the product\\n\\t1.Sale price\\n\\t2.Cost price\\n\\t3.Profit\")\n",
    "opt_1=input(\"please enter an option : \")\n",
    "if opt_1==\"1\":\n",
    "    cp=float(input(\"enter the cost price: \"))\n",
    "    dp=float(input(\"enter the discount :\"))\n",
    "    sale_price(cp,dp)\n",
    "elif opt_1==\"2\":\n",
    "    pc=float(input(\"enter the purchase cost : \"))\n",
    "    dc=float(input(\"enter the delivery charge: \"))\n",
    "    cost_price(pc,dc)\n",
    "elif opt_1==\"3\":\n",
    "    cp=float(input(\"enter the cost price : \"))\n",
    "    sp=float(input(\"enter the sale price : \"))\n",
    "else:\n",
    "    print(\"invald entry!\")"
   ]
  },
  {
   "cell_type": "code",
   "execution_count": 28,
   "metadata": {},
   "outputs": [
    {
     "name": "stdout",
     "output_type": "stream",
     "text": [
      "please select a below mentioned option to know the cost of the product\n",
      "\t1.Sale price\n",
      "\t2.Cost price\n",
      "\t3.Profit\n",
      "please enter an option : 2\n",
      "enter the purchase cost : 780.26\n",
      "enter the delivery charge: 45\n",
      "cost price of the product :  825.26\n"
     ]
    }
   ],
   "source": [
    "def sale_price(cp,dp):\n",
    "    print(\"sale price of the product :\",  cp-dp)\n",
    "def cost_price(pc,dc):\n",
    "    print(\"cost price of the product : \",pc+dc)\n",
    "def profit(sp,cp):\n",
    "    print(\"total profit on product : \",cp-sp )\n",
    "print(\"please select a below mentioned option to know the cost of the product\\n\\t1.Sale price\\n\\t2.Cost price\\n\\t3.Profit\")\n",
    "opt_1=input(\"please enter an option : \")\n",
    "if opt_1==\"1\":\n",
    "    cp=float(input(\"enter the cost price: \"))\n",
    "    dp=float(input(\"enter the discount :\"))\n",
    "    sale_price(cp,dp)\n",
    "elif opt_1==\"2\":\n",
    "    pc=float(input(\"enter the purchase cost : \"))\n",
    "    dc=float(input(\"enter the delivery charge: \"))\n",
    "    cost_price(pc,dc)\n",
    "elif opt_1==\"3\":\n",
    "    cp=float(input(\"enter the cost price : \"))\n",
    "    sp=float(input(\"enter the sale price : \"))\n",
    "else:\n",
    "    print(\"invald entry!\")"
   ]
  },
  {
   "cell_type": "code",
   "execution_count": 30,
   "metadata": {},
   "outputs": [
    {
     "name": "stdout",
     "output_type": "stream",
     "text": [
      "please select a below mentioned option to know the cost of the product\n",
      "\t1.Sale price\n",
      "\t2.Cost price\n",
      "\t3.Profit\n",
      "please enter an option : 3\n",
      "enter the cost price : 4658\n",
      "enter the sale price : 7000\n",
      "total profit on product :  2342.0\n"
     ]
    }
   ],
   "source": [
    "def sale_price(cp,dp):\n",
    "    print(\"sale price of the product :\",  cp-dp)\n",
    "def cost_price(pc,dc):\n",
    "    print(\"cost price of the product : \",pc+dc)\n",
    "def profit(sp,cp):\n",
    "    print(\"total profit on product : \",cp-sp )\n",
    "print(\"please select a below mentioned option to know the cost of the product\\n\\t1.Sale price\\n\\t2.Cost price\\n\\t3.Profit\")\n",
    "opt_1=input(\"please enter an option : \")\n",
    "if opt_1==\"1\":\n",
    "    cp=float(input(\"enter the cost price: \"))\n",
    "    dp=float(input(\"enter the discount :\"))\n",
    "    sale_price(cp,dp)\n",
    "elif opt_1==\"2\":\n",
    "    pc=float(input(\"enter the purchase cost : \"))\n",
    "    dc=float(input(\"enter the delivery charge: \"))\n",
    "    cost_price(pc,dc)\n",
    "elif opt_1==\"3\":\n",
    "    cp=float(input(\"enter the cost price : \"))\n",
    "    sp=float(input(\"enter the sale price : \"))\n",
    "    profit(cp,sp)\n",
    "else:\n",
    "    print(\"invald entry!\")"
   ]
  },
  {
   "cell_type": "code",
   "execution_count": 31,
   "metadata": {},
   "outputs": [
    {
     "name": "stdout",
     "output_type": "stream",
     "text": [
      "please select a below mentioned option to know the cost of the product\n",
      "\t1.Sale price\n",
      "\t2.Cost price\n",
      "\t3.Profit\n",
      "please enter an option : 4\n",
      "invald entry!\n"
     ]
    }
   ],
   "source": [
    "def cost_price(pc,dc):\n",
    "    print(\"cost price of the product : \",pc+dc)\n",
    "def profit(sp,cp):\n",
    "    print(\"total profit on product : \",cp-sp )\n",
    "print(\"please select a below mentioned option to know the cost of the product\\n\\t1.Sale price\\n\\t2.Cost price\\n\\t3.Profit\")\n",
    "opt_1=input(\"please enter an option : \")\n",
    "if opt_1==\"1\":\n",
    "    cp=float(input(\"enter the cost price: \"))\n",
    "    dp=float(input(\"enter the discount :\"))\n",
    "    sale_price(cp,dp)\n",
    "elif opt_1==\"2\":\n",
    "    pc=float(input(\"enter the purchase cost : \"))\n",
    "    dc=float(input(\"enter the delivery charge: \"))\n",
    "    cost_price(pc,dc)\n",
    "elif opt_1==\"3\":\n",
    "    cp=float(input(\"enter the cost price : \"))\n",
    "    sp=float(input(\"enter the sale price : \"))\n",
    "    profit(cp,sp)\n",
    "else:\n",
    "    print(\"invald entry!\")"
   ]
  },
  {
   "cell_type": "code",
   "execution_count": 1,
   "metadata": {},
   "outputs": [
    {
     "name": "stdout",
     "output_type": "stream",
     "text": [
      "please select a below mentioned option to know the cost of the product\n",
      "\t1.Sale price\n",
      "\t2.Cost price\n",
      "\t3.Profit\n",
      "\t4.Quit\n",
      "please enter an option : 1\n",
      "enter the cost price: 254\n",
      "enter the discount :25\n",
      "sale price of the product : 229.0\n",
      "please select a below mentioned option to know the cost of the product\n",
      "\t1.Sale price\n",
      "\t2.Cost price\n",
      "\t3.Profit\n",
      "\t4.Quit\n",
      "please enter an option : 21542\n",
      "invald entry!\n",
      "please select a below mentioned option to know the cost of the product\n",
      "\t1.Sale price\n",
      "\t2.Cost price\n",
      "\t3.Profit\n",
      "\t4.Quit\n",
      "please enter an option : 4\n",
      "thank you\n"
     ]
    }
   ],
   "source": [
    "#to make the above option to keep looping till the customer quits \n",
    "def sale_price(cp,dp):\n",
    "    print(\"sale price of the product :\",  cp-dp)\n",
    "def cost_price(pc,dc):\n",
    "    print(\"cost price of the product : \",pc+dc)\n",
    "def profit(sp,cp):\n",
    "    print(\"total profit on product : \",cp-sp )\n",
    "while True:\n",
    "    print(\"please select a below mentioned option to know the cost of the product\\n\\t1.Sale price\\n\\t2.Cost price\\n\\t3.Profit\\n\\t4.Quit\")\n",
    "    opt_1=input(\"please enter an option : \")\n",
    "    if opt_1==\"4\":\n",
    "        print(\"thank you\")\n",
    "        break\n",
    "    if opt_1==\"1\":\n",
    "        cp=float(input(\"enter the cost price: \"))\n",
    "        dp=float(input(\"enter the discount :\"))\n",
    "        sale_price(cp,dp)\n",
    "    elif opt_1==\"2\":\n",
    "        pc=float(input(\"enter the purchase cost : \"))\n",
    "        dc=float(input(\"enter the delivery charge: \"))\n",
    "        cost_price(pc,dc)\n",
    "    elif opt_1==\"3\":\n",
    "        cp=float(input(\"enter the cost price : \"))\n",
    "        sp=float(input(\"enter the sale price : \"))\n",
    "        profit(cp,sp)\n",
    "    else:\n",
    "        print(\"invald entry!\")"
   ]
  },
  {
   "cell_type": "code",
   "execution_count": 5,
   "metadata": {},
   "outputs": [
    {
     "name": "stdout",
     "output_type": "stream",
     "text": [
      "a=1,b=2,c=3,d=4\n",
      "10\n"
     ]
    }
   ],
   "source": [
    "#to simply define a function with multiple arguments through it \n",
    "def cal_c(a,b,c,d,e):\n",
    "    print(f\"a={a},b={b},c={c},d={d}\")\n",
    "    res=a+b+c+d\n",
    "    print(res)\n",
    "cal_c(1,2,3,4,5)"
   ]
  },
  {
   "cell_type": "code",
   "execution_count": 6,
   "metadata": {},
   "outputs": [
    {
     "name": "stdout",
     "output_type": "stream",
     "text": [
      "a=1,b=2,c=3,d=4\n",
      "10\n",
      "a=1,b=2,c=0,d=0\n",
      "3\n"
     ]
    }
   ],
   "source": [
    "def cal_c(a,b,c=0,d=0,e=0):\n",
    "    print(f\"a={a},b={b},c={c},d={d}\")\n",
    "    res=a+b+c+d\n",
    "    print(res)\n",
    "cal_c(1,2,3,4,5)\n",
    "cal_c(1,2)"
   ]
  },
  {
   "cell_type": "code",
   "execution_count": 7,
   "metadata": {},
   "outputs": [
    {
     "name": "stdout",
     "output_type": "stream",
     "text": [
      "a=1,b=2,c=3,d=4\n",
      "10\n",
      "a=1,b=2,c=5,d=0\n",
      "8\n"
     ]
    },
    {
     "ename": "NameError",
     "evalue": "name 'cal' is not defined",
     "output_type": "error",
     "traceback": [
      "\u001b[1;31m---------------------------------------------------------------------------\u001b[0m",
      "\u001b[1;31mNameError\u001b[0m                                 Traceback (most recent call last)",
      "\u001b[1;32m<ipython-input-7-8f8a40c5afe9>\u001b[0m in \u001b[0;36m<module>\u001b[1;34m\u001b[0m\n\u001b[0;32m      5\u001b[0m \u001b[0mcal_c\u001b[0m\u001b[1;33m(\u001b[0m\u001b[1;36m1\u001b[0m\u001b[1;33m,\u001b[0m\u001b[1;36m2\u001b[0m\u001b[1;33m,\u001b[0m\u001b[1;36m3\u001b[0m\u001b[1;33m,\u001b[0m\u001b[1;36m4\u001b[0m\u001b[1;33m,\u001b[0m\u001b[1;36m5\u001b[0m\u001b[1;33m)\u001b[0m\u001b[1;33m\u001b[0m\u001b[1;33m\u001b[0m\u001b[0m\n\u001b[0;32m      6\u001b[0m \u001b[0mcal_c\u001b[0m\u001b[1;33m(\u001b[0m\u001b[1;36m1\u001b[0m\u001b[1;33m,\u001b[0m\u001b[1;36m2\u001b[0m\u001b[1;33m)\u001b[0m\u001b[1;33m\u001b[0m\u001b[1;33m\u001b[0m\u001b[0m\n\u001b[1;32m----> 7\u001b[1;33m \u001b[0mcal\u001b[0m\u001b[1;33m(\u001b[0m\u001b[1;36m1\u001b[0m\u001b[1;33m,\u001b[0m\u001b[1;36m2\u001b[0m\u001b[1;33m)\u001b[0m\u001b[1;33m\u001b[0m\u001b[1;33m\u001b[0m\u001b[0m\n\u001b[0m",
      "\u001b[1;31mNameError\u001b[0m: name 'cal' is not defined"
     ]
    }
   ],
   "source": [
    "def cal_c(a,b,c=5,d=0,e=0):\n",
    "    print(f\"a={a},b={b},c={c},d={d}\")\n",
    "    res=a+b+c+d\n",
    "    print(res)\n",
    "cal_c(1,2,3,4,5)\n",
    "cal_c(1,2)\n",
    "cal(1,2)"
   ]
  },
  {
   "cell_type": "code",
   "execution_count": 9,
   "metadata": {},
   "outputs": [
    {
     "name": "stdout",
     "output_type": "stream",
     "text": [
      "a=1,b=2,c=3,d=4\n",
      "10\n",
      "a=1,b=2,c=5,d=0\n",
      "8\n",
      "a=1,b=2,c=4,d=0\n",
      "7\n"
     ]
    }
   ],
   "source": [
    "def cal_c(a,b,c=5,d=0,e=0):\n",
    "    print(f\"a={a},b={b},c={c},d={d}\")\n",
    "    res=a+b+c+d                                #even though the value of c is predefined it still takes the value we aresetting \n",
    "    print(res)                                 #it to while calling the function \n",
    "cal_c(1,2,3,4,5) \n",
    "cal_c(1,2)      \n",
    "cal_c(1,2,4)                        "
   ]
  },
  {
   "cell_type": "code",
   "execution_count": 14,
   "metadata": {},
   "outputs": [
    {
     "name": "stdout",
     "output_type": "stream",
     "text": [
      "id=122346,name=Joey,age=None,sex=None\n"
     ]
    }
   ],
   "source": [
    "#define person function name id mandatory params age gender are optional parameters. print the given details in function\n",
    "def personal(id,name,age=None,sex=None,phone=None):\n",
    "    print(f\"id={id},name={name},age={age},sex={sex}\")\n",
    "personal(122346,\"Joey\")"
   ]
  },
  {
   "cell_type": "code",
   "execution_count": 16,
   "metadata": {},
   "outputs": [
    {
     "name": "stdout",
     "output_type": "stream",
     "text": [
      "id=122346,name=Joey,age=Male,sex=None\n"
     ]
    }
   ],
   "source": [
    "#define person function name id mandatory params age gender are optional parameters. print the given details in function\n",
    "def personal(id,name,age=None,sex=None,phone=None):\n",
    "    print(f\"id={id},name={name},age={age},sex={sex}\")\n",
    "personal(122346,\"Joey\",\"Male\")"
   ]
  },
  {
   "cell_type": "code",
   "execution_count": 19,
   "metadata": {},
   "outputs": [
    {
     "name": "stdout",
     "output_type": "stream",
     "text": [
      "enter your details \n",
      "\t1.Name\n",
      "\t2.Age\n",
      "\t3.height\n",
      "\t4.weight\n",
      "\t4.pan\n",
      "\t6.adhaar 2\n",
      "Enter your age24\n",
      "name=0,age=24,height=0,weight=0,pan=0,adhaar=0\n"
     ]
    }
   ],
   "source": [
    "def personal(name,age,height=0,weight=0,pan=0,adhaar=0):\n",
    "    print(f\"name={name},age={age},height={height},weight={weight},pan={pan},adhaar={adhaar}\")\n",
    "enter_1=input(\"enter your details \\n\\t1.Name\\n\\t2.Age\\n\\t3.height\\n\\t4.weight\\n\\t4.pan\\n\\t6.adhaar \")\n",
    "if enter_1==\"1\":\n",
    "          name=input(\"Enter your name : \")\n",
    "          personal(name,0)\n",
    "elif enter_1==\"2\":\n",
    "          age=input(\"Enter your age\")\n",
    "          personal(\"0\",age)\n",
    "elif enter_1==\"3\":\n",
    "          height=input(\"enter your height\")\n",
    "          personal(\"0\",\"0\",height)          \n",
    "else:\n",
    "    print(None)\n",
    "    \n",
    "          \n",
    "\n",
    "          "
   ]
  },
  {
   "cell_type": "code",
   "execution_count": 25,
   "metadata": {},
   "outputs": [
    {
     "name": "stdout",
     "output_type": "stream",
     "text": [
      "enter your details \n",
      "\t1.Name\n",
      "\t2.Age\n",
      "\t3.height\n",
      "\t4.weight\n",
      "\t4.pan\n",
      "\t6.adhaar 3\n",
      "enter your height: 15\n",
      "enter your weight:0\n",
      "enter your adhaar: \n",
      "enter your pan:2\n",
      "age=robo,name=25,height=15,weight=0,pan=,adhaar=2\n"
     ]
    }
   ],
   "source": [
    "def personal(name,age=0,height=0,weight=0,pan=0,adhaar=0):\n",
    "    print(f\"name={name},age={age},height={height},weight={weight},pan={pan},adhaar={adhaar}\")\n",
    "def personal_1(age=1,name=0,height=0,weight=0,pan=0,adhaar=0):\n",
    "     print(f\"age={age},name={name},height={height},weight={weight},pan={pan},adhaar={adhaar}\")\n",
    "def personal_2(age=0,name=0,height=0,weight=0,pan=0,adhaar=0):\n",
    "    print(f\"age={age},name={name},height={height},weight={weight},pan={pan},adhaar={adhaar}\")\n",
    "enter_1=input(\"enter your details \\n\\t1.Name\\n\\t2.Age\\n\\t3.height\\n\\t4.weight\\n\\t4.pan\\n\\t6.adhaar \")\n",
    "if enter_1==\"1\":\n",
    "          name=input(\"Enter your name : \")\n",
    "          personal(name,0)\n",
    "elif enter_1==\"2\":\n",
    "          age=input(\"Enter your age\")\n",
    "          personal_1(age,0)                                           #crappy code\n",
    "elif enter_1==\"3\":\n",
    "\n",
    "                height=input(\"enter your height: \")\n",
    "                weight=input(\"enter your weight:\")\n",
    "                adhaar=input(\"enter your adhaar: \")\n",
    "                pan=input(\"enter your pan:\")\n",
    "                personal_2(name,age,height,weight,adhaar,pan)         \n",
    "else:\n",
    "    print(None)"
   ]
  },
  {
   "cell_type": "code",
   "execution_count": 26,
   "metadata": {},
   "outputs": [
    {
     "name": "stdout",
     "output_type": "stream",
     "text": [
      "enter your details \n",
      "\t1.Name\n",
      "\t2.Age\n",
      "\t3.height\n",
      "\t4.weight\n",
      "\t4.pan\n",
      "\t6.adhaar 1\n",
      "Enter your name : robo\n",
      "name=robo,age=0,height=0,weight=0,pan=0,adhaar=0\n"
     ]
    }
   ],
   "source": [
    "def personal(name,age=0,height=0,weight=0,pan=0,adhaar=0):\n",
    "    print(f\"name={name},age={age},height={height},weight={weight},pan={pan},adhaar={adhaar}\")\n",
    "def personal_1(age=1,name=0,height=0,weight=0,pan=0,adhaar=0):\n",
    "     print(f\"age={age},name={name},height={height},weight={weight},pan={pan},adhaar={adhaar}\")\n",
    "def personal_2(age=0,name=0,height=0,weight=0,pan=0,adhaar=0):\n",
    "    print(f\"age={age},name={name},height={height},weight={weight},pan={pan},adhaar={adhaar}\")\n",
    "enter_1=input(\"enter your details \\n\\t1.Name\\n\\t2.Age\\n\\t3.height\\n\\t4.weight\\n\\t4.pan\\n\\t6.adhaar \")\n",
    "if enter_1==\"1\":\n",
    "          name=input(\"Enter your name : \")\n",
    "          personal(name,0)\n",
    "elif enter_1==\"2\":\n",
    "          age=input(\"Enter your age\")\n",
    "          personal_1(age,0)\n",
    "elif enter_1==\"3\":\n",
    "\n",
    "                height=input(\"enter your height: \")\n",
    "                weight=input(\"enter your weight:\")\n",
    "                adhaar=input(\"enter your adhaar: \")\n",
    "                pan=input(\"enter your pan:\")\n",
    "                personal_2(name,age,height,weight,adhaar,pan)         \n",
    "else:\n",
    "    print(None)"
   ]
  },
  {
   "cell_type": "code",
   "execution_count": 32,
   "metadata": {},
   "outputs": [
    {
     "name": "stdout",
     "output_type": "stream",
     "text": [
      "enter your details \n",
      "\t1.Name\n",
      "\t2.other info 1\n",
      "Enter your name : robo\n",
      "enter your age :25\n",
      "name=robo,age=25,height=0,weight=0,pan=0,adhaar=0\n"
     ]
    }
   ],
   "source": [
    "def personal(name,age,height=0,weight=0,pan=0,adhaar=0):\n",
    "    print(f\"name={name},age={age},height={height},weight={weight},pan={pan},adhaar={adhaar}\")\n",
    "def personal_2(name=0,age=0,height=0,weight=0,pan=0,adhaar=0):\n",
    "    print(f\"name={name},age={age},height={height},weight={weight},pan={pan},adhaar={adhaar}\")\n",
    "enter_1=input(\"enter your details \\n\\t1.Name\\n\\t2.other info \")\n",
    "if enter_1==\"1\":\n",
    "            name=input(\"Enter your name : \")\n",
    "            age=input(\"enter your age :\")\n",
    "            personal(name,age)\n",
    "\n",
    "elif enter_1==\"2\":\n",
    "\n",
    "                height=input(\"enter your height: \")\n",
    "                weight=input(\"enter your weight:\")\n",
    "                adhaar=input(\"enter your adhaar: \")\n",
    "                pan=input(\"enter your pan:\")\n",
    "                personal_2(name,age,height,weight,adhaar,pan)\n",
    "else:\n",
    "    print(\"invalid entry\")"
   ]
  },
  {
   "cell_type": "code",
   "execution_count": 33,
   "metadata": {},
   "outputs": [
    {
     "name": "stdout",
     "output_type": "stream",
     "text": [
      "enter your details \n",
      "\t1.Name\n",
      "\t2.other info 2\n",
      "enter your height: 23\n",
      "enter your weight:\n",
      "enter your adhaar: 3\n",
      "enter your pan:piboo\n",
      "name=robo,age=25,height=23,weight=,pan=3,adhaar=piboo\n"
     ]
    }
   ],
   "source": [
    "def personal(name,age,height=0,weight=0,pan=0,adhaar=0):\n",
    "    print(f\"name={name},age={age},height={height},weight={weight},pan={pan},adhaar={adhaar}\")\n",
    "def personal_2(name=0,age=0,height=0,weight=0,pan=0,adhaar=0):\n",
    "    print(f\"name={name},age={age},height={height},weight={weight},pan={pan},adhaar={adhaar}\")\n",
    "enter_1=input(\"enter your details \\n\\t1.Name\\n\\t2.other info \")\n",
    "if enter_1==\"1\":\n",
    "            name=input(\"Enter your name : \")\n",
    "            age=input(\"enter your age :\")\n",
    "            personal(name,age)\n",
    "\n",
    "elif enter_1==\"2\":\n",
    "\n",
    "                height=input(\"enter your height: \")\n",
    "                weight=input(\"enter your weight:\")\n",
    "                adhaar=input(\"enter your adhaar: \")\n",
    "                pan=input(\"enter your pan:\")\n",
    "                personal_2(name,age,height,weight,adhaar,pan)\n",
    "else:\n",
    "    print(\"invalid entry\")"
   ]
  },
  {
   "cell_type": "code",
   "execution_count": 2,
   "metadata": {},
   "outputs": [
    {
     "name": "stdout",
     "output_type": "stream",
     "text": [
      "enter your details \n",
      "\t1.Name\n",
      "\t2.other info 3\n",
      "invalid entry\n"
     ]
    }
   ],
   "source": [
    "def personal(name,age,height=0,weight=0,pan=0,adhaar=0):\n",
    "    print(f\"name={name},age={age},height={height},weight={weight},pan={pan},adhaar={adhaar}\")\n",
    "def personal_2(name=0,age=0,height=0,weight=0,pan=0,adhaar=0):\n",
    "    print(f\"name={name},age={age},height={height},weight={weight},pan={pan},adhaar={adhaar}\")\n",
    "enter_1=input(\"enter your details \\n\\t1.Name\\n\\t2.other info \")\n",
    "for i in enter_1:\n",
    "    if i==\"1\":\n",
    "            name=input(\"Enter your name : \")\n",
    "            age=input(\"enter your age :\")\n",
    "            personal(name,age)\n",
    "\n",
    "    elif i==\"2\":\n",
    "        height=input(\"enter your height: \")\n",
    "        weight=input(\"enter your weight:\")\n",
    "        adhaar=input(\"enter your adhaar: \")\n",
    "        pan=input(\"enter your pan:\")\n",
    "        personal_2(name,age,height,weight,adhaar,pan)\n",
    "    else:\n",
    "        print(\"invalid entry\")"
   ]
  },
  {
   "cell_type": "code",
   "execution_count": 4,
   "metadata": {},
   "outputs": [
    {
     "name": "stdout",
     "output_type": "stream",
     "text": [
      "enter your details \n",
      "\t1.Name\n",
      "\t2.other info 1\n",
      "Enter your name : ronu\n",
      "enter your age :\n",
      "name=ronu,age=,height=0,weight=0,pan=0,adhaar=0\n"
     ]
    }
   ],
   "source": [
    "def personal(name,age,height=0,weight=0,pan=0,adhaar=0):\n",
    "    print(f\"name={name},age={age},height={height},weight={weight},pan={pan},adhaar={adhaar}\")\n",
    "def personal_2(name=0,age=0,height=0,weight=0,pan=0,adhaar=0):\n",
    "    print(f\"name={name},age={age},height={height},weight={weight},pan={pan},adhaar={adhaar}\")\n",
    "enter_1=input(\"enter your details \\n\\t1.Name\\n\\t2.other info \")\n",
    "for i in enter_1:\n",
    "    if i==\"1\":\n",
    "            name=input(\"Enter your name : \")\n",
    "            age=input(\"enter your age :\")\n",
    "            personal(name,age)\n",
    "\n",
    "     \n",
    "    else:\n",
    "        print(\"invalid entry\")"
   ]
  },
  {
   "cell_type": "code",
   "execution_count": 1,
   "metadata": {},
   "outputs": [
    {
     "name": "stdout",
     "output_type": "stream",
     "text": [
      "enter your details \n",
      "\t1.Name\n",
      "\t2.other info 1\n",
      "Enter your name : dddd\n",
      "enter your age :\n",
      "name=dddd,age=,height=0,weight=0,pan=0,adhaar=0\n"
     ]
    }
   ],
   "source": [
    "def personal(name,age,height=0,weight=0,pan=0,adhaar=0):\n",
    "    print(f\"name={name},age={age},height={height},weight={weight},pan={pan},adhaar={adhaar}\")\n",
    "def personal_2(name=0,age=0,height=0,weight=0,pan=0,adhaar=0):\n",
    "    print(f\"name={name},age={age},height={height},weight={weight},pan={pan},adhaar={adhaar}\")\n",
    "enter_1=input(\"enter your details \\n\\t1.Name\\n\\t2.other info \")\n",
    "for i in enter_1:\n",
    "    if i==\"1\":\n",
    "            name=input(\"Enter your name : \")\n",
    "            age=input(\"enter your age :\")\n",
    "            personal(name,age)\n",
    "\n",
    "     \n",
    "    else:\n",
    "        print(\"invalid entry\")"
   ]
  },
  {
   "cell_type": "code",
   "execution_count": null,
   "metadata": {},
   "outputs": [],
   "source": [
    "def personal(name,age,height=0,weight=0,pan=0,adhaar=0):\n",
    "    print(f\"name={name},age={age},height={height},weight={weight},pan={pan},adhaar={adhaar}\")\n",
    "enter_1=input(\"enter your details \\n\\t1.Name\\n\\t2.other info \")\n"
   ]
  },
  {
   "cell_type": "code",
   "execution_count": 3,
   "metadata": {},
   "outputs": [
    {
     "name": "stdout",
     "output_type": "stream",
     "text": [
      "Enter a number :3\n",
      "this is not an even number\n"
     ]
    }
   ],
   "source": [
    "# 65 b. write a function to check given value is even or not\n",
    "x=int(input(\"Enter a number :\"))\n",
    "def eve(x):\n",
    "    if x%2==0:\n",
    "        print(\"this is a even number\")\n",
    "    else:\n",
    "        print(\"this is not an even number\")\n",
    "eve(x)"
   ]
  },
  {
   "cell_type": "code",
   "execution_count": 14,
   "metadata": {},
   "outputs": [
    {
     "name": "stdout",
     "output_type": "stream",
     "text": [
      "Enter a number : 3\n",
      "3 is a prime number\n"
     ]
    }
   ],
   "source": [
    "#65 c. write a function to check given value is prime or not\n",
    "num=int(input(\"Enter a number : \"))\n",
    "def prime(num):\n",
    "    if num > 1:\n",
    "   \n",
    "        for i in range(2,num):\n",
    "           if (num % i) == 0:\n",
    "                print(num,\"is not a prime number\")\n",
    "                print(i,\"times\",num//i,\"is\",num)\n",
    "                break\n",
    "        else:\n",
    "            print(num,\"is a prime number\")\n",
    "prime(num)\n",
    "       "
   ]
  },
  {
   "cell_type": "code",
   "execution_count": null,
   "metadata": {},
   "outputs": [],
   "source": []
  }
 ],
 "metadata": {
  "kernelspec": {
   "display_name": "Python 3",
   "language": "python",
   "name": "python3"
  },
  "language_info": {
   "codemirror_mode": {
    "name": "ipython",
    "version": 3
   },
   "file_extension": ".py",
   "mimetype": "text/x-python",
   "name": "python",
   "nbconvert_exporter": "python",
   "pygments_lexer": "ipython3",
   "version": "3.7.3"
  }
 },
 "nbformat": 4,
 "nbformat_minor": 2
}
