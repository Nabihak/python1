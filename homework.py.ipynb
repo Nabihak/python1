{
 "cells": [
  {
   "cell_type": "code",
   "execution_count": 24,
   "metadata": {},
   "outputs": [
    {
     "name": "stdout",
     "output_type": "stream",
     "text": [
      "enter the number of people : 500\n",
      "enter the no of seats :25\n",
      "the number of buses required 20.0\n"
     ]
    }
   ],
   "source": [
    "#Take the input from the user for(Total number of people,Number of seats for bus. Based on two inputs\n",
    "#Decide how many number of buses required\n",
    "\n",
    "people_1=int(input(\"enter the number of people : \"))    #in order to print the result with the given o/p statement we need to \n",
    "                                                        #convert it to a string is str(result),this is a solution to \"cant concatinate int to a string\"\n",
    "bus_seats=int(input(\"enter the no of seats :\")) \n",
    "\n",
    "result =people_1/bus_seats\n",
    "print(\"the number of buses required \" + str(result))"
   ]
  },
  {
   "cell_type": "code",
   "execution_count": 9,
   "metadata": {},
   "outputs": [
    {
     "name": "stdout",
     "output_type": "stream",
     "text": [
      "enter the number of people : 685\n",
      "enter the no of seats :25\n",
      "27\n"
     ]
    }
   ],
   "source": [
    "#Take the input from the user for(Total number of people,Number of seats for bus. Based on two inputs\n",
    "#Decide how many number of buses required\n",
    "\n",
    "people_1=int(input(\"enter the number of people : \"))\n",
    "bus_seats=int(input(\"enter the no of seats :\")) \n",
    "\n",
    "result =int(people_1/bus_seats)\n",
    "print (result)"
   ]
  },
  {
   "cell_type": "code",
   "execution_count": 10,
   "metadata": {},
   "outputs": [
    {
     "name": "stdout",
     "output_type": "stream",
     "text": [
      "enter the temperature in celsius : 100\n",
      "37.77777777777778\n"
     ]
    }
   ],
   "source": [
    "#take temperature from the user and convert foreign heat -> Celsius{c-32*5/9}\n",
    "temp_c=float(input(\"enter the temperature in celsius : \"))\n",
    "fahren_temp=(temp_c-32)*5/9\n",
    "print(fahren_temp)\n"
   ]
  },
  {
   "cell_type": "code",
   "execution_count": 12,
   "metadata": {},
   "outputs": [
    {
     "name": "stdout",
     "output_type": "stream",
     "text": [
      "enter the temperature in fahrenheit : 95\n",
      "203.0\n"
     ]
    }
   ],
   "source": [
    "#take temperature from the user and convert Celsius → foreign heat.\n",
    "tc=float(input(\"enter the temperature in fahrenheit : \"))\n",
    "tf=((tc)*9/5)+32\n",
    "print(tf)"
   ]
  },
  {
   "cell_type": "code",
   "execution_count": 23,
   "metadata": {},
   "outputs": [
    {
     "name": "stdout",
     "output_type": "stream",
     "text": [
      "enter a number : 2\n",
      "enter a number : 3\n",
      "enter a number : 2\n",
      "enter a number : 3\n",
      "25.0\n",
      "125.0\n"
     ]
    }
   ],
   "source": [
    "#take four number from the user\n",
    "# Do the below operations   ## (a + b)3  =  a3 + b3 + 3ab(a + b) \n",
    "# (a+b)**2, (c+d)**3\n",
    "from math import*\n",
    "a=float(input(\"enter a number : \"))\n",
    "b=float(input(\"enter a number : \"))\n",
    "c=float(input(\"enter a number : \"))\n",
    "d=float(input(\"enter a number : \"))\n",
    "a2=pow(a,2)\n",
    "b2=pow(b,2)\n",
    "e=a*b\n",
    "result=a2 +b2+2*a*b\n",
    "print(result)\n",
    "c2=pow(c,3)\n",
    "d2=pow(d,3)\n",
    "f=3*c*d\n",
    "g=c+d\n",
    "result_1=c2+d2+f*g\n",
    "print(result_1)\n",
    "\n"
   ]
  },
  {
   "cell_type": "code",
   "execution_count": 36,
   "metadata": {},
   "outputs": [
    {
     "name": "stdout",
     "output_type": "stream",
     "text": [
      "enter a numbe : 600\n",
      "enter a numbe : 470\n",
      "enter a numbe : 170\n",
      "enter a numbe : 430\n",
      "enter a numbe : 300\n",
      "394.0\n",
      "21704.0\n",
      "147.32277488562318\n"
     ]
    }
   ],
   "source": [
    "#take four number from the user and find mean and varience & standard daviation \n",
    "a=float(input(\"enter a numbe : \"))\n",
    "b=float(input(\"enter a numbe : \"))\n",
    "c=float(input(\"enter a numbe : \"))\n",
    "d=float(input(\"enter a numbe : \"))\n",
    "e=float(input(\"enter a numbe : \"))\n",
    "\n",
    "mean=(a+b+c+d+e)/5\n",
    "print (mean)\n",
    "varience =((a-mean)**2+(b-mean)**2+(c-mean)**2+(d-mean)**2+(e-mean)**2)/5\n",
    "\n",
    "print(varience)\n",
    "strd_d=sqrt(varience)\n",
    "print(strd_d)\n"
   ]
  },
  {
   "cell_type": "code",
   "execution_count": 2,
   "metadata": {},
   "outputs": [
    {
     "name": "stdout",
     "output_type": "stream",
     "text": [
      "enter the distance in km : 2\n",
      "199999.99999999997\n",
      "2000.0\n",
      "6561.6\n"
     ]
    }
   ],
   "source": [
    "#Take the distance in km\n",
    "    #Show that in cm, meters, in milli meters, cents, feets\n",
    "km=float(input(\"enter the distance in km : \"))\n",
    "cm=km/0.000010000\n",
    "print(cm)\n",
    "meter=km/0.0010000\n",
    "print(meter)\n",
    "feet =km * 3280.8\n",
    "print(feet)\n"
   ]
  },
  {
   "cell_type": "code",
   "execution_count": 5,
   "metadata": {},
   "outputs": [
    {
     "name": "stdout",
     "output_type": "stream",
     "text": [
      "enter the size of your hard-disk :  500\n",
      "the size of your hd in kb is \n",
      "524288000.0\n",
      "the size of your hd in mb is \n",
      "500000.0\n",
      "the size of your hd in tb is\n",
      "0.5\n"
     ]
    }
   ],
   "source": [
    "#.Take the size of your hard disk in GB\n",
    "     #Show that in MB, KB, TB, PB\n",
    "hd=float(input(\"enter the size of your hard-disk :  \"))\n",
    "kb=hd*1048576\n",
    "print(\"the size of your hd in kb is \")\n",
    "print(kb)\n",
    "mb=hd*1000\n",
    "print(\"the size of your hd in mb is \")\n",
    "print(mb)\n",
    "tb=hd/1000\n",
    "print(\"the size of your hd in tb is\")\n",
    "print(tb)"
   ]
  },
  {
   "cell_type": "code",
   "execution_count": 11,
   "metadata": {},
   "outputs": [
    {
     "name": "stdout",
     "output_type": "stream",
     "text": [
      "please enter your name : nova\n",
      "enter your age : 27\n",
      "enter your height : 170\n",
      "the details of the person :name : nova, Age of the person is :27, height of the person in cm is :170.\n"
     ]
    }
   ],
   "source": [
    "#.  Take name, age, height from the user and print like below\n",
    "#The details of the person: Name:name of the person, Age:age of the person, Height:height of the person\n",
    "#Note: make sure that no space between : and a value and should be space after “COMA”\n",
    "name_1=input(\"please enter your Name : \")\n",
    "age_1=(input(\"enter your age : \"))\n",
    "height_1=(input(\"enter your height : \" ))\n",
    "print(\"the details of the person :Name : \" +name_1+\", Age of the person is :\"+age_1+\", height of the person in cm is :\"+height_1+\".\")"
   ]
  },
  {
   "cell_type": "code",
   "execution_count": 14,
   "metadata": {},
   "outputs": [
    {
     "name": "stdout",
     "output_type": "stream",
     "text": [
      "enter your weight in kg's : 95\n",
      "enter your height in meters : 1.737\n",
      "your bmi is as follows :\n",
      "31.48646960113934\n"
     ]
    }
   ],
   "source": [
    "#BMI calculation: take required parameters for BMI calculation from the user and calculate BMI of the person\n",
    "weight=float(input(\"enter your weight in kg's : \"))\n",
    "height=float(input(\"enter your height in meters : \"))\n",
    "bmi=weight/(height)**2\n",
    "print(\"your bmi is as follows :\")\n",
    "print(bmi)"
   ]
  },
  {
   "cell_type": "code",
   "execution_count": 15,
   "metadata": {},
   "outputs": [
    {
     "name": "stdout",
     "output_type": "stream",
     "text": [
      "name :jairam,age:1.6,height:3.55,weight:10.44\n"
     ]
    }
   ],
   "source": [
    "#. name=\"Jayaram\"                              #we are using string fromat specifier here is str.format refer \n",
    "                                        #https://www.geeksforgeeks.org/python-format-function/\n",
    "#age=1.6 \n",
    "#By using above inputs print the output\n",
    "#Name:Jayaram, Age:1.6, Height:3.54, Weight:10.344\n",
    "#Note: Use format specifiers(%s, %d, %f)\n",
    "\n",
    "print(\"name :{},age:{},height:{},weight:{}\".format(\"jairam\",1.6,3.55,10.44))\n"
   ]
  },
  {
   "cell_type": "code",
   "execution_count": 17,
   "metadata": {},
   "outputs": [
    {
     "name": "stdout",
     "output_type": "stream",
     "text": [
      "enter a capital letter : Q\n",
      "enter another capital letter : W\n",
      "enter another capital letter : E\n",
      "q w e\n"
     ]
    }
   ],
   "source": [
    "#Take three upper case letters from the user convert in to small case.\n",
    "a=input(\"enter a capital letter : \")\n",
    "b=input(\"enter another capital letter : \")\n",
    "c=input(\"enter another capital letter : \")\n",
    "print(a.lower(),b.lower(),c.lower())\n"
   ]
  },
  {
   "cell_type": "code",
   "execution_count": 23,
   "metadata": {},
   "outputs": [
    {
     "name": "stdout",
     "output_type": "stream",
     "text": [
      "enter the cost of tomato : 50\n",
      "enter the cost of poatao:46\n",
      "enter the cost of okra:82\n",
      "enter the cost of oil : 15\n",
      "enter the cost of chillies :66\n",
      "15.0\n",
      "82.0\n",
      "259.0\n"
     ]
    }
   ],
   "source": [
    "#Take some groceries cost prices and print total cost and average cost, what is the max cost, what is the minimum cost.\n",
    "c1=float(input(\"enter the cost of tomato : \"))\n",
    "c2=float(input(\"enter the cost of poatao:\" ))\n",
    "c3=float(input(\"enter the cost of okra:\" ))\n",
    "c4=float(input(\"enter the cost of oil : \" ))\n",
    "c5=float(input(\"enter the cost of chillies :\" ))\n",
    "list_1=[c1,c2,c3,c4,c5]\n",
    "print(min(list_1))\n",
    "print(max(list_1))\n",
    "print(sum(list_1))\n"
   ]
  },
  {
   "cell_type": "code",
   "execution_count": 28,
   "metadata": {},
   "outputs": [
    {
     "name": "stdout",
     "output_type": "stream",
     "text": [
      "enter a whole number : 11\n",
      "you have entered an odd number \n"
     ]
    }
   ],
   "source": [
    "#Conditional statements\n",
    "#Take number from the user decide whether it is even or odd\n",
    "num_1=int(input(\"enter a whole number : \"))\n",
    "if num_1%2==0:\n",
    "    print(\"you have entered a even number \")\n",
    "else :\n",
    "    print(\"you have entered an odd number \")"
   ]
  },
  {
   "cell_type": "code",
   "execution_count": 30,
   "metadata": {},
   "outputs": [
    {
     "name": "stdout",
     "output_type": "stream",
     "text": [
      "enter a number of your choice :  -56541\n",
      "you have entered a negative number \n"
     ]
    }
   ],
   "source": [
    "#.take number from the user decide whether it is positive number or negative number\n",
    "num_1=float(input(\"enter a number of your choice :  \"))\n",
    "if num_1>=0 :\n",
    "    print(\"you have entered a positve number\")\n",
    "else :\n",
    "    print(\"you have entered a negative number \")"
   ]
  },
  {
   "cell_type": "code",
   "execution_count": 32,
   "metadata": {},
   "outputs": [
    {
     "name": "stdout",
     "output_type": "stream",
     "text": [
      "enter a string of your choice :\n",
      "error\n"
     ]
    }
   ],
   "source": [
    "#.take a string from the user print the length. if the user not given anything then show an error message\n",
    "string_1=input(\"enter a string of your choice :\")\n",
    "if len(string_1)>0:\n",
    "    print(len(string_1))\n",
    "else :\n",
    "    print(\"error\")"
   ]
  },
  {
   "cell_type": "code",
   "execution_count": 41,
   "metadata": {},
   "outputs": [
    {
     "name": "stdout",
     "output_type": "stream",
     "text": [
      "enter a number : 5\n",
      "enter a number : 3\n",
      "choose an option \n",
      " 1.add \n",
      " 2.sub \n",
      " 3.mul \n",
      " 4.div \n",
      " 5.exit 3\n",
      "15.0\n"
     ]
    }
   ],
   "source": [
    "#code to perform mathematical operations. take two numbers from the user and show the below menu\n",
    "#\t1. add,\n",
    "#\t2. sub,\t\n",
    "#\t3. mul,\n",
    "# \t4.div, \n",
    "#\t5.quit\n",
    "#\tEnter an option:\n",
    "#\t\tbased on the option need to perform an operations\n",
    "a=float(input(\"enter a number : \"))\n",
    "b=float(input(\"enter a number : \"))\n",
    "option_1=float(input(\"choose an option \\n 1.add \\n 2.sub \\n 3.mul \\n 4.div \\n 5.exit \"))\n",
    "if option_1==1:\n",
    "    print(a+b)\n",
    "elif option_1==2:\n",
    "    print(a-b)\n",
    "elif option_1==3:\n",
    "    print(a*b)\n",
    "elif option_1==4:\n",
    "    print(a/b)\n",
    "elif option_1==5:\n",
    "    print(\"quit by user\")\n",
    "else:\n",
    "    print(\"error\")\n",
    "    \n"
   ]
  },
  {
   "cell_type": "code",
   "execution_count": 43,
   "metadata": {},
   "outputs": [
    {
     "name": "stdout",
     "output_type": "stream",
     "text": [
      "choose the section you want to shop in \n",
      " 1.Kids \n",
      " 2.Men \n",
      " 3.Women5\n",
      "error\n"
     ]
    }
   ],
   "source": [
    "#. show the menu:\n",
    "  # \t\t 1. kids\n",
    "  #  \t\t2. Men's\n",
    "  ## \t\t 3. Women's\n",
    "   # \t\tShow the corresponding message based on the selection. Mention \t\terror \tmessage if he enter >3.\n",
    "option_1=float(input(\"choose the section you want to shop in \\n 1.Kids \\n 2.Men \\n 3.Women\"))\n",
    "if option_1==1:\n",
    "    print(\"you are now being redirected to kids section \")\n",
    "elif option_1==2:\n",
    "    print(\"you are being redirected to Mens section\")\n",
    "elif option_1==3:\n",
    "    print(\"you are being redirected to Womens section \")\n",
    "else :\n",
    "    print(\"error\")\n"
   ]
  },
  {
   "cell_type": "code",
   "execution_count": 48,
   "metadata": {},
   "outputs": [
    {
     "data": {
      "text/plain": [
       "True"
      ]
     },
     "execution_count": 48,
     "metadata": {},
     "output_type": "execute_result"
    }
   ],
   "source": [
    "#write a program to chcek given substring is there in actual string or not?\n",
    "#example: act=\"python is a pure object oriented programing language\"\n",
    "#check whether “pure” is there in act or not.#we are going to use the in operator here \n",
    "act=\"python is a pure object oriented programing language\"\n",
    "\"pure\" in act\n"
   ]
  },
  {
   "cell_type": "code",
   "execution_count": 49,
   "metadata": {},
   "outputs": [
    {
     "name": "stdout",
     "output_type": "stream",
     "text": [
      "enter a number : 50\n",
      "enter a number : 68\n",
      "enter a number : 47\n",
      "68.0\n"
     ]
    }
   ],
   "source": [
    "#Take three numbers from the user and decide which is big\n",
    "x=float(input(\"enter a number : \"))\n",
    "y=float(input(\"enter a number : \"))\n",
    "z=float(input(\"enter a number : \"))\n",
    "if x>=y and x>=z:\n",
    "    print(x)\n",
    "elif y>=x and y>=z:\n",
    "    print(y)\n",
    "else:\n",
    "    print(z)"
   ]
  },
  {
   "cell_type": "code",
   "execution_count": 53,
   "metadata": {},
   "outputs": [
    {
     "name": "stdout",
     "output_type": "stream",
     "text": [
      "enter your age :18\n",
      "enter your gender : male\n",
      "you are not eligible to legally marry in India \n"
     ]
    }
   ],
   "source": [
    "#. Take age and gender from the user and decide whether he is eligible for \tmarriage in India or not.\n",
    "#Age criteria: men age>22, women>18\n",
    "age=float(input(\"enter your age :\"))\n",
    "gender=(input(\"enter your gender : \"))\n",
    "if age>=22 and gender==\"male\":\n",
    "        print(\"you are male and eligible to marry\")\n",
    "elif age>18 and gender==\"female\":\n",
    "        print(\"you are a women and eligible to marry\")\n",
    "else :\n",
    "    print(\"you are not eligible to legally marry in India \")\n",
    "    "
   ]
  },
  {
   "cell_type": "code",
   "execution_count": 57,
   "metadata": {},
   "outputs": [
    {
     "name": "stdout",
     "output_type": "stream",
     "text": [
      "choose one operating system : \n",
      " 1.Windows \n",
      " 2.linux \n",
      " 3.Mac 2\n",
      "please visit the 2nd floor to buy linux \n"
     ]
    }
   ],
   "source": [
    "#operating systems:\n",
    "#\t1.windows\n",
    "#\t2.android\n",
    "#\t3.mac\n",
    "\n",
    "option_1=float(input(\"choose one operating system : \\n 1.Windows \\n 2.linux \\n 3.Mac \"))\n",
    "if option_1==1:\n",
    "    print(\"please visit the 3rd floor to buy windows \")\n",
    "elif option_1==2:\n",
    "    print(\"please visit the 2nd floor to buy linux \")\n",
    "elif option_1==3:\n",
    "    print(\"please visit the ground floor to buy mac \")\n",
    "else:\n",
    "    print(\"you have entered a wrong option ,please select from the given menu !\")\n"
   ]
  },
  {
   "cell_type": "code",
   "execution_count": null,
   "metadata": {},
   "outputs": [],
   "source": [
    "#Given an age, figure out whether someone's a baby, toddler, child, teenager, adult or old \n",
    "age=float(input(\"please enter your age : \"))\n",
    "if age==0 or age <3:\n",
    "    print(\"you are a baby\")\n",
    "elif age==3 or age<5:\n",
    "    print(\"you are a toddler \")\n",
    "elif age==5 or age<12:\n",
    "    print(\"you are a child \")\n",
    "elif age==12 or age<19:\n",
    "    print(\"you are a teenager\")\n",
    "elif age==19 or age<40:\n",
    "    print(\"you are an adult\")\n",
    "else :\n",
    "    print(\"you are senior citizen\")"
   ]
  },
  {
   "cell_type": "code",
   "execution_count": 3,
   "metadata": {},
   "outputs": [
    {
     "name": "stdout",
     "output_type": "stream",
     "text": [
      "enter an number of your choice : 43\n",
      "enter a another number of your choice : 4\n",
      "43.0is not divisible by 4.0\n"
     ]
    }
   ],
   "source": [
    "#.Take two number a,b from the user and check ;whether a is divisible by b or not\n",
    "a=float(input(\"enter an number of your choice : \"))\n",
    "b=float(input(\"enter a another number of your choice : \"))\n",
    "if a%b==0:\n",
    "    print(str(a)+ \"is divisble by \" + str(b))\n",
    "else :\n",
    "    print(str(a) +\"is not divisible by \" + str(b))"
   ]
  },
  {
   "cell_type": "code",
   "execution_count": 33,
   "metadata": {},
   "outputs": [
    {
     "name": "stdout",
     "output_type": "stream",
     "text": [
      "enter a letter of your choice : #\n",
      "you have entered a special symbol\n"
     ]
    }
   ],
   "source": [
    "#Take a letter from the user and print that letter belongs to which category I.e\n",
    "#is it a small letter or capital letter or number or special symbol\n",
    "ted=input(\"enter a letter of your choice : \") \"\"\"we are using the ord function here and to use it we are converting every \n",
    "input to integer # this program was copleted using the help of an example program @geeksforgeek\"\"\"\n",
    "if int(ord(ted))>=65 and int(ord(ted))<=90:\n",
    "    print(\"you have entered a capital letter\")\n",
    "elif int(ord(ted))>=97 and int(ord(ted))<=122:\n",
    "    print(\"you have entered a small letter \")\n",
    "elif int(ord(ted))>=48 and int(ord(ted))<=57:\n",
    "    print(\"you have entered a number\")\n",
    "else:\n",
    "    print(\"you have entered a special symbol\")\n",
    "    "
   ]
  },
  {
   "cell_type": "code",
   "execution_count": 32,
   "metadata": {},
   "outputs": [
    {
     "name": "stdout",
     "output_type": "stream",
     "text": [
      "65\n",
      "90\n",
      "97\n",
      "122\n"
     ]
    }
   ],
   "source": [
    "#to find the ascii value of any alphabit use the ord fuction but first save the alpabit to a variable \n",
    "c=\"A\"\n",
    "print(ord(c))\n",
    "b=\"Z\"\n",
    "print(ord(b))\n",
    "c=\"a\"\n",
    "print(ord(c))\n",
    "d=\"z\"\n",
    "print(ord(d))"
   ]
  },
  {
   "cell_type": "code",
   "execution_count": 16,
   "metadata": {},
   "outputs": [
    {
     "name": "stdout",
     "output_type": "stream",
     "text": [
      "49\n",
      "57\n"
     ]
    }
   ],
   "source": [
    "s=\"1\"\n",
    "print(ord(s))\n",
    "a=\"9\"\n",
    "print(ord(a))"
   ]
  },
  {
   "cell_type": "code",
   "execution_count": 49,
   "metadata": {},
   "outputs": [
    {
     "name": "stdout",
     "output_type": "stream",
     "text": [
      "enter a number : 2\n"
     ]
    }
   ],
   "source": [
    "#python loops \n",
    "#take a number from the user and check whether it is prime?\n",
    "num=int(input(\"enter a number : \")) #i am unable to solve this program even after seeing a bunch of examples \n",
    "if num>1:\n",
    "\n",
    "    for i in range(2,num):\n",
    "        if num%i==0 :\n",
    "            print(\"its not a prime number\")\n",
    "            break\n",
    "        else :\n",
    "             print(\"its a prime number\")"
   ]
  },
  {
   "cell_type": "code",
   "execution_count": 40,
   "metadata": {},
   "outputs": [
    {
     "name": "stdout",
     "output_type": "stream",
     "text": [
      "2\n",
      "3\n",
      "4\n",
      "5\n",
      "6\n",
      "7\n",
      "8\n"
     ]
    }
   ],
   "source": [
    "list=[2,4,7,6,3,5,8,9]\n",
    "for i in range(2,9):\n",
    "    \n",
    "    \n",
    "    \n",
    "    print(i)"
   ]
  },
  {
   "cell_type": "code",
   "execution_count": 62,
   "metadata": {},
   "outputs": [
    {
     "name": "stdout",
     "output_type": "stream",
     "text": [
      "enter a string of your choice :vdf54\n",
      "not a number\n"
     ]
    }
   ],
   "source": [
    "#. take a string from the user and check contains only digits or not?\n",
    "#isdigit()\n",
    "strings=input(\"enter a string of your choice :\")\n",
    "\n",
    "for i in strings:                       \n",
    "    if strings.isdigit():\n",
    "        print(\"its a number\")\n",
    "else :\n",
    "    print (\"not a number\")"
   ]
  },
  {
   "cell_type": "code",
   "execution_count": 63,
   "metadata": {},
   "outputs": [
    {
     "name": "stdout",
     "output_type": "stream",
     "text": [
      "enter a string :fndif\n",
      "it contains alphabits\n",
      "it contains alphabits\n",
      "it contains alphabits\n",
      "it contains alphabits\n",
      "it contains alphabits\n",
      "it contians either number or symbols\n"
     ]
    }
   ],
   "source": [
    "#take a string from the user and check contains only  alphabets or not?\n",
    "option=input(\"enter a string :\")\n",
    "for i in option:\n",
    "    if option.isalpha():\n",
    "        print (\"it contains alphabits\")\n",
    "else :\n",
    "    print(\"it contians either number or symbols\")"
   ]
  },
  {
   "cell_type": "code",
   "execution_count": null,
   "metadata": {},
   "outputs": [],
   "source": []
  }
 ],
 "metadata": {
  "kernelspec": {
   "display_name": "Python 3",
   "language": "python",
   "name": "python3"
  },
  "language_info": {
   "codemirror_mode": {
    "name": "ipython",
    "version": 3
   },
   "file_extension": ".py",
   "mimetype": "text/x-python",
   "name": "python",
   "nbconvert_exporter": "python",
   "pygments_lexer": "ipython3",
   "version": "3.7.3"
  }
 },
 "nbformat": 4,
 "nbformat_minor": 2
}
